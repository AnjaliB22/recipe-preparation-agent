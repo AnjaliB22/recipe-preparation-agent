{
 "cells": [
  {
   "cell_type": "markdown",
   "id": "29d92ce3",
   "metadata": {},
   "source": [
    "\n",
    "# 🍲 Recipe Preparation Agent\n",
    "\n",
    "This notebook demonstrates the **Recipe Preparation Agent** project, which generates recipes based on the ingredients provided by the user using AI (IBM Granite Model & Prompt Lab).\n",
    "\n",
    "---\n"
   ]
  },
  {
   "cell_type": "markdown",
   "id": "8ad1e84a",
   "metadata": {},
   "source": [
    "\n",
    "## 📊 Data Overview\n",
    "\n",
    "We are using a small recipe dataset (`realistic_recipe_dataset_30.json`) that contains different recipes, their ingredients, preparation steps, cuisine, and estimated cooking time.\n"
   ]
  },
  {
   "cell_type": "code",
   "execution_count": null,
   "id": "954d95e4",
   "metadata": {},
   "outputs": [],
   "source": [
    "\n",
    "import json\n",
    "\n",
    "# Load dataset\n",
    "with open(\"realistic_recipe_dataset_30.json\", \"r\") as file:\n",
    "    recipes = json.load(file)\n",
    "\n",
    "# Display first recipe\n",
    "recipes[0]\n"
   ]
  },
  {
   "cell_type": "markdown",
   "id": "fbeeb3a6",
   "metadata": {},
   "source": [
    "\n",
    "## 🧹 Data Cleaning\n",
    "\n",
    "For this project, we ensure that:\n",
    "- All ingredient names are in lowercase\n",
    "- Remove extra spaces\n",
    "- Check if all recipes have required keys: name, ingredients, steps, cuisine\n"
   ]
  },
  {
   "cell_type": "code",
   "execution_count": null,
   "id": "966c5c2e",
   "metadata": {},
   "outputs": [],
   "source": [
    "\n",
    "# Clean dataset\n",
    "for recipe in recipes:\n",
    "    recipe['ingredients'] = [ing.strip().lower() for ing in recipe['ingredients']]\n",
    "\n",
    "# Verify cleaning\n",
    "recipes[0]\n"
   ]
  },
  {
   "cell_type": "markdown",
   "id": "60f4fddb",
   "metadata": {},
   "source": [
    "\n",
    "## 📈 Exploratory Data Analysis (EDA)\n",
    "\n",
    "Here we will see:\n",
    "- Total number of recipes\n",
    "- Distribution of cuisines\n",
    "- Average number of ingredients per recipe\n"
   ]
  },
  {
   "cell_type": "code",
   "execution_count": null,
   "id": "594e553a",
   "metadata": {},
   "outputs": [],
   "source": [
    "\n",
    "import pandas as pd\n",
    "\n",
    "df = pd.DataFrame(recipes)\n",
    "print(\"Total recipes:\", len(df))\n",
    "print(\"Cuisine distribution:\\n\", df['cuisine'].value_counts())\n",
    "print(\"Average ingredients per recipe:\", df['ingredients'].apply(len).mean())\n"
   ]
  },
  {
   "cell_type": "markdown",
   "id": "8319fd82",
   "metadata": {},
   "source": [
    "\n",
    "## 🤖 AI Recipe Suggestion\n",
    "\n",
    "Here, we simulate the AI model's recipe generation using a simple ingredient match function.\n"
   ]
  },
  {
   "cell_type": "code",
   "execution_count": null,
   "id": "973fe742",
   "metadata": {},
   "outputs": [],
   "source": [
    "\n",
    "def suggest_recipe(available_ingredients):\n",
    "    suggestions = []\n",
    "    for recipe in recipes:\n",
    "        if all(ing in available_ingredients for ing in recipe['ingredients'][:2]):\n",
    "            suggestions.append(recipe['name'])\n",
    "    return suggestions\n",
    "\n",
    "# Example usage\n",
    "suggest_recipe([\"onion\", \"tomato\", \"salt\", \"oil\"])\n"
   ]
  },
  {
   "cell_type": "markdown",
   "id": "280aa0d9",
   "metadata": {},
   "source": [
    "\n",
    "## 📝 Conclusion\n",
    "\n",
    "The Recipe Preparation Agent can:\n",
    "- Suggest recipes based on available ingredients\n",
    "- Provide step-by-step preparation\n",
    "- Offer substitutions & dietary tips\n",
    "\n",
    "In future, it can integrate **image recognition** and **voice input** for better accessibility.\n"
   ]
  }
 ],
 "metadata": {},
 "nbformat": 4,
 "nbformat_minor": 5
}